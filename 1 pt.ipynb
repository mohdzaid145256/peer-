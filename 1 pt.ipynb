{
 "cells": [
  {
   "cell_type": "markdown",
   "id": "7d2a6417",
   "metadata": {},
   "source": [
    "# Final Project Notebook"
   ]
  },
  {
   "cell_type": "markdown",
   "id": "a45ee7fb",
   "metadata": {},
   "source": [
    "## Introduction  \n",
    "This notebook demonstrates key concepts in data science, including programming, data visualization, and tool usage.\n"
   ]
  },
  {
   "cell_type": "markdown",
   "id": "f4638bf8",
   "metadata": {},
   "source": [
    "## Data Science Languages  \n",
    "- Python  \n",
    "- R  \n",
    "- Julia  \n",
    "- SQL  \n"
   ]
  },
  {
   "cell_type": "markdown",
   "id": "3a4056e7",
   "metadata": {},
   "source": [
    "## Data Science Libraries  \n",
    "- Pandas  \n",
    "- NumPy  \n",
    "- Matplotlib  \n",
    "- Scikit-learn  \n",
    "- TensorFlow  \n",
    "- Keras  \n"
   ]
  },
  {
   "cell_type": "markdown",
   "id": "3c6834c7",
   "metadata": {},
   "source": [
    "## Data Science Tools  \n",
    "\n",
    "| Tool           | Description                       |  \n",
    "|----------------|-----------------------------------|  \n",
    "| JupyterLab     | Interactive programming notebook |  \n",
    "| RStudio        | IDE for R programming            |  \n",
    "| Apache Spark   | Big data processing framework    |  \n",
    "| Tableau        | Data visualization tool          |  \n"
   ]
  },
  {
   "cell_type": "markdown",
   "id": "7dfd6a6d",
   "metadata": {},
   "source": [
    "## Arithmetic Expression Examples  \n",
    "Below are examples of basic arithmetic operations like addition and multiplication.  \n"
   ]
  },
  {
   "cell_type": "code",
   "execution_count": 1,
   "id": "ce7cdee9",
   "metadata": {},
   "outputs": [
    {
     "name": "stdout",
     "output_type": "stream",
     "text": [
      "Multiplication Result: 42\n",
      "Addition Result: 13\n"
     ]
    }
   ],
   "source": [
    "# Multiplying and adding numbers\n",
    "result_multiply = 7 * 6\n",
    "result_add = 7 + 6\n",
    "print(\"Multiplication Result:\", result_multiply)\n",
    "print(\"Addition Result:\", result_add)\n"
   ]
  },
  {
   "cell_type": "code",
   "execution_count": 2,
   "id": "b7abf41b",
   "metadata": {},
   "outputs": [
    {
     "name": "stdout",
     "output_type": "stream",
     "text": [
      "150 minutes is equal to 2.50 hours\n"
     ]
    }
   ],
   "source": [
    "# Convert minutes to hours\n",
    "minutes = 150\n",
    "hours = minutes / 60\n",
    "print(f\"{minutes} minutes is equal to {hours:.2f} hours\")\n"
   ]
  },
  {
   "cell_type": "markdown",
   "id": "d727d805",
   "metadata": {},
   "source": [
    "## Objectives  \n",
    "- Learn the basic structure of a Jupyter Notebook  \n",
    "- Understand common data science languages and tools  \n",
    "- Perform basic arithmetic and data manipulation  \n"
   ]
  },
  {
   "cell_type": "markdown",
   "id": "d09c75d8",
   "metadata": {},
   "source": [
    "## Author  \n",
    "[Tapabrata Banerjee]  \n"
   ]
  },
  {
   "cell_type": "markdown",
   "id": "badcc2fb",
   "metadata": {},
   "source": [
    "## GitHub Link  \n",
    "[Final Project Notebook](https://github.com/Taps030/git-demo30/blob/main/1%20pt.ipynb)\n"
   ]
  },
  {
   "cell_type": "code",
   "execution_count": null,
   "id": "196aa3b5",
   "metadata": {},
   "outputs": [],
   "source": []
  }
 ],
 "metadata": {
  "kernelspec": {
   "display_name": "Python 3 (ipykernel)",
   "language": "python",
   "name": "python3"
  },
  "language_info": {
   "codemirror_mode": {
    "name": "ipython",
    "version": 3
   },
   "file_extension": ".py",
   "mimetype": "text/x-python",
   "name": "python",
   "nbconvert_exporter": "python",
   "pygments_lexer": "ipython3",
   "version": "3.9.12"
  }
 },
 "nbformat": 4,
 "nbformat_minor": 5
}
